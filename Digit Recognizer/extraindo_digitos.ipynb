{
 "cells": [
  {
   "cell_type": "code",
   "execution_count": 40,
   "metadata": {},
   "outputs": [],
   "source": [
    "import cv2\n",
    "import imutils\n",
    "import numpy as np\n",
    "import matplotlib.pyplot as plt"
   ]
  },
  {
   "cell_type": "code",
   "execution_count": 41,
   "metadata": {},
   "outputs": [],
   "source": [
    "image = cv2.imread('imagem_escaneada.jpeg')\n",
    "gray = cv2.cvtColor(image.copy(), cv2.COLOR_BGR2GRAY)\n",
    "\n",
    "ret, thresh = cv2.threshold(gray.copy(), 75, 255, cv2.THRESH_BINARY_INV)\n",
    "contours, hiera = cv2.findContours(thresh.copy(), cv2.RETR_EXTERNAL, cv2.CHAIN_APPROX_SIMPLE)\n",
    "\n",
    "\n",
    "digitos_preprocessados = []\n",
    "\n",
    "for c in contours:\n",
    "    \n",
    "    x, y, w, h = cv2.boundingRect(c)\n",
    "    \n",
    "    if(h > 3 and w > 3):    # os digitos devem ter mais de 3 pixels de largura e de altura\n",
    "\n",
    "        cv2.rectangle(image, (x, y), (x+w, y+h), color = (0, 255, 0), thickness = 2)\n",
    "\n",
    "        digit = thresh[y:y+h, x:x+h]\n",
    "\n",
    "        resized_digit = cv2.resize(digit, (18, 18))\n",
    "\n",
    "        padded_digit = np.pad(resized_digit, ((5,5),(5,5)), \n",
    "                              'constant', constant_values = 0)\n",
    "\n",
    "        digitos_preprocessados.append(padded_digit)\n",
    "\n",
    "cv2.imshow('image', image)\n",
    "cv2.waitKey(0)\n",
    "cv2.destroyAllWindows()"
   ]
  }
 ],
 "metadata": {
  "kernelspec": {
   "display_name": "Python 3",
   "language": "python",
   "name": "python3"
  },
  "language_info": {
   "codemirror_mode": {
    "name": "ipython",
    "version": 3
   },
   "file_extension": ".py",
   "mimetype": "text/x-python",
   "name": "python",
   "nbconvert_exporter": "python",
   "pygments_lexer": "ipython3",
   "version": "3.7.3"
  }
 },
 "nbformat": 4,
 "nbformat_minor": 2
}
