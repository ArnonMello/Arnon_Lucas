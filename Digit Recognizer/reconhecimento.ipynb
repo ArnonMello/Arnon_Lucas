{
 "cells": [
  {
   "cell_type": "code",
   "execution_count": 1,
   "metadata": {},
   "outputs": [
    {
     "name": "stderr",
     "output_type": "stream",
     "text": [
      "Using TensorFlow backend.\n"
     ]
    }
   ],
   "source": [
    "import pandas as pd\n",
    "import numpy as np\n",
    "import matplotlib.pyplot as plt\n",
    "\n",
    "import keras\n",
    "import tensorflow as tf"
   ]
  },
  {
   "cell_type": "code",
   "execution_count": 2,
   "metadata": {},
   "outputs": [],
   "source": [
    "data = pd.read_csv('train.csv')\n",
    "X_train = data.drop('label', axis = 1)\n",
    "X_train = X_train.values.reshape(-1,28,28,1)\n",
    "Y_train = data['label']\n",
    "test = pd.read_csv('test.csv')\n",
    "test = test.values.reshape(-1, 28, 28, 1)"
   ]
  },
  {
   "cell_type": "code",
   "execution_count": 3,
   "metadata": {},
   "outputs": [],
   "source": [
    "X_train = X_train/255\n",
    "test = test/255"
   ]
  },
  {
   "cell_type": "code",
   "execution_count": 4,
   "metadata": {},
   "outputs": [
    {
     "data": {
      "text/plain": [
       "<matplotlib.image.AxesImage at 0x241898d9160>"
      ]
     },
     "execution_count": 4,
     "metadata": {},
     "output_type": "execute_result"
    },
    {
     "data": {
      "image/png": "[encoded data removed]",
      "text/plain": [
       "<Figure size 432x288 with 1 Axes>"
      ]
     },
     "metadata": {
      "needs_background": "light"
     },
     "output_type": "display_data"
    }
   ],
   "source": [
    "plt.imshow(X_train[3][:, :, 0], cmap = 'gray')"
   ]
  },
  {
   "cell_type": "code",
   "execution_count": 5,
   "metadata": {},
   "outputs": [],
   "source": [
    "from keras.utils import to_categorical\n",
    "Y_train = to_categorical(Y_train, num_classes = 10)"
   ]
  },
  {
   "cell_type": "code",
   "execution_count": 6,
   "metadata": {},
   "outputs": [],
   "source": [
    "from sklearn.model_selection import train_test_split\n",
    "\n",
    "X_train, X_val, Y_train, Y_val = train_test_split(X_train, Y_train, test_size = 0.1, random_state = 42)"
   ]
  },
  {
   "cell_type": "code",
   "execution_count": 7,
   "metadata": {},
   "outputs": [],
   "source": [
    "from keras.models import Sequential\n",
    "from keras.layers import Conv2D, MaxPool2D, Flatten, Dense, Dropout\n",
    "\n",
    "model = Sequential()\n",
    "\n",
    "model.add(Conv2D(filters = 32, kernel_size = (3, 3),\n",
    "                 padding = 'Same', activation ='relu',\n",
    "                 input_shape = (28,28,1), strides = (1,1)))\n",
    "\n",
    "model.add(MaxPool2D(pool_size=(2,2), strides = (2, 2)))\n",
    "\n",
    "model.add(Conv2D(filters = 2, kernel_size = (3, 3),\n",
    "                 padding = 'Same', activation = 'relu',\n",
    "                 input_shape = (14, 14, 32), strides = (1, 1)))\n",
    "\n",
    "model.add(MaxPool2D(pool_size = (2, 2) , strides = (2, 2)))\n",
    "\n",
    "model.add(Flatten())\n",
    "\n",
    "model.add(Dense(128, activation = 'relu'))\n",
    "\n",
    "model.add(Dropout(0.5))\n",
    "\n",
    "model.add(Dense(10, activation = 'softmax'))"
   ]
  },
  {
   "cell_type": "code",
   "execution_count": 8,
   "metadata": {},
   "outputs": [],
   "source": [
    "from keras import optimizers\n",
    "\n",
    "optmizer = optimizers.Adam(learning_rate=0.001, beta_1=0.9, beta_2=0.999, amsgrad=False)"
   ]
  },
  {
   "cell_type": "code",
   "execution_count": 9,
   "metadata": {},
   "outputs": [],
   "source": [
    "model.compile(optimizer = 'adam',\n",
    "              loss = 'categorical_crossentropy',\n",
    "              metrics=[\"accuracy\"])"
   ]
  },
  {
   "cell_type": "code",
   "execution_count": 10,
   "metadata": {},
   "outputs": [],
   "source": [
    "from keras.callbacks import ReduceLROnPlateau\n",
    "\n",
    "learning_rate_reduction = ReduceLROnPlateau(monitor='val_acc', \n",
    "                                            patience=3, \n",
    "                                            verbose=1, \n",
    "                                            factor=0.5, \n",
    "                                            min_lr=0.00001)"
   ]
  },
  {
   "cell_type": "code",
   "execution_count": 12,
   "metadata": {
    "scrolled": true
   },
   "outputs": [
    {
     "name": "stdout",
     "output_type": "stream",
     "text": [
      "Train on 37800 samples, validate on 4200 samples\n",
      "Epoch 1/30\n",
      "37800/37800 [==============================] - 28s 740us/step - loss: 0.3653 - accuracy: 0.8883 - val_loss: 0.1870 - val_accuracy: 0.9464\n",
      "Epoch 2/30\n",
      "37800/37800 [==============================] - 31s 822us/step - loss: 0.2315 - accuracy: 0.9297 - val_loss: 0.1480 - val_accuracy: 0.9555\n",
      "Epoch 3/30\n",
      "37800/37800 [==============================] - 29s 769us/step - loss: 0.1915 - accuracy: 0.9420 - val_loss: 0.1238 - val_accuracy: 0.9633\n",
      "Epoch 4/30\n",
      "37800/37800 [==============================] - 28s 740us/step - loss: 0.1661 - accuracy: 0.9503 - val_loss: 0.1103 - val_accuracy: 0.9676\n",
      "Epoch 5/30\n",
      "37800/37800 [==============================] - 30s 796us/step - loss: 0.1559 - accuracy: 0.9533 - val_loss: 0.1076 - val_accuracy: 0.9667\n",
      "Epoch 6/30\n",
      "37800/37800 [==============================] - 27s 725us/step - loss: 0.1388 - accuracy: 0.9569 - val_loss: 0.1057 - val_accuracy: 0.9671\n",
      "Epoch 7/30\n",
      "37800/37800 [==============================] - 33s 877us/step - loss: 0.1325 - accuracy: 0.9602 - val_loss: 0.0914 - val_accuracy: 0.9736\n",
      "Epoch 8/30\n",
      "37800/37800 [==============================] - 27s 719us/step - loss: 0.1250 - accuracy: 0.9613 - val_loss: 0.0917 - val_accuracy: 0.9719\n",
      "Epoch 9/30\n",
      "37800/37800 [==============================] - 25s 659us/step - loss: 0.1183 - accuracy: 0.9643 - val_loss: 0.0838 - val_accuracy: 0.9731\n",
      "Epoch 10/30\n",
      "37800/37800 [==============================] - 25s 669us/step - loss: 0.1158 - accuracy: 0.9637 - val_loss: 0.0841 - val_accuracy: 0.9750\n",
      "Epoch 11/30\n",
      "37800/37800 [==============================] - 27s 719us/step - loss: 0.1084 - accuracy: 0.9660 - val_loss: 0.0813 - val_accuracy: 0.9750\n",
      "Epoch 12/30\n",
      "37800/37800 [==============================] - 32s 860us/step - loss: 0.1018 - accuracy: 0.9683 - val_loss: 0.0807 - val_accuracy: 0.9776\n",
      "Epoch 13/30\n",
      "37800/37800 [==============================] - 34s 901us/step - loss: 0.1040 - accuracy: 0.9677 - val_loss: 0.0773 - val_accuracy: 0.9769\n",
      "Epoch 14/30\n",
      "37800/37800 [==============================] - 32s 855us/step - loss: 0.0962 - accuracy: 0.9708 - val_loss: 0.0820 - val_accuracy: 0.9750\n",
      "Epoch 15/30\n",
      "37800/37800 [==============================] - 30s 793us/step - loss: 0.0941 - accuracy: 0.9698 - val_loss: 0.0800 - val_accuracy: 0.9755\n",
      "Epoch 16/30\n",
      "37800/37800 [==============================] - 33s 868us/step - loss: 0.0934 - accuracy: 0.9715 - val_loss: 0.0721 - val_accuracy: 0.9779\n",
      "Epoch 17/30\n",
      "37800/37800 [==============================] - 33s 872us/step - loss: 0.0925 - accuracy: 0.9710 - val_loss: 0.0730 - val_accuracy: 0.9774\n",
      "Epoch 18/30\n",
      "37800/37800 [==============================] - 34s 887us/step - loss: 0.0860 - accuracy: 0.9729 - val_loss: 0.0702 - val_accuracy: 0.9790\n",
      "Epoch 19/30\n",
      "37800/37800 [==============================] - 32s 860us/step - loss: 0.0883 - accuracy: 0.9724 - val_loss: 0.0748 - val_accuracy: 0.9779\n",
      "Epoch 20/30\n",
      "37800/37800 [==============================] - 29s 768us/step - loss: 0.0864 - accuracy: 0.9735 - val_loss: 0.0710 - val_accuracy: 0.9781\n",
      "Epoch 21/30\n",
      "37800/37800 [==============================] - 28s 745us/step - loss: 0.0831 - accuracy: 0.9742 - val_loss: 0.0694 - val_accuracy: 0.9786\n",
      "Epoch 22/30\n",
      "37800/37800 [==============================] - 29s 764us/step - loss: 0.0793 - accuracy: 0.9749 - val_loss: 0.0701 - val_accuracy: 0.9802\n",
      "Epoch 23/30\n",
      "37800/37800 [==============================] - 28s 748us/step - loss: 0.0780 - accuracy: 0.9753 - val_loss: 0.0690 - val_accuracy: 0.9795\n",
      "Epoch 24/30\n",
      "37800/37800 [==============================] - 28s 752us/step - loss: 0.0780 - accuracy: 0.9749 - val_loss: 0.0686 - val_accuracy: 0.9790\n",
      "Epoch 25/30\n",
      "37800/37800 [==============================] - 28s 749us/step - loss: 0.0751 - accuracy: 0.9763 - val_loss: 0.0692 - val_accuracy: 0.9805\n",
      "Epoch 26/30\n",
      "37800/37800 [==============================] - 28s 740us/step - loss: 0.0763 - accuracy: 0.9755 - val_loss: 0.0675 - val_accuracy: 0.9795\n",
      "Epoch 27/30\n",
      "37800/37800 [==============================] - 27s 702us/step - loss: 0.0745 - accuracy: 0.9762 - val_loss: 0.0666 - val_accuracy: 0.9802\n",
      "Epoch 28/30\n",
      "37800/37800 [==============================] - 28s 752us/step - loss: 0.0706 - accuracy: 0.9778 - val_loss: 0.0650 - val_accuracy: 0.9798\n",
      "Epoch 29/30\n",
      "37800/37800 [==============================] - 27s 706us/step - loss: 0.0692 - accuracy: 0.9781 - val_loss: 0.0657 - val_accuracy: 0.9807\n",
      "Epoch 30/30\n",
      "37800/37800 [==============================] - 35s 933us/step - loss: 0.0674 - accuracy: 0.9777 - val_loss: 0.0718 - val_accuracy: 0.9776\n"
     ]
    }
   ],
   "source": [
    "batch_size = 86\n",
    "epochs = 30\n",
    "history = model.fit(X_train, Y_train, batch_size = batch_size, epochs = epochs, \n",
    "                    validation_data = (X_val, Y_val), verbose = 1)"
   ]
  },
  {
   "cell_type": "code",
   "execution_count": 13,
   "metadata": {},
   "outputs": [],
   "source": [
    "model.save('modelo_treinado.h5')"
   ]
  },
  {
   "cell_type": "code",
   "execution_count": null,
   "metadata": {},
   "outputs": [],
   "source": []
  }
 ],
 "metadata": {
  "kernelspec": {
   "display_name": "Python 3",
   "language": "python",
   "name": "python3"
  },
  "language_info": {
   "codemirror_mode": {
    "name": "ipython",
    "version": 3
   },
   "file_extension": ".py",
   "mimetype": "text/x-python",
   "name": "python",
   "nbconvert_exporter": "python",
   "pygments_lexer": "ipython3",
   "version": "3.7.3"
  }
 },
 "nbformat": 4,
 "nbformat_minor": 2
}
