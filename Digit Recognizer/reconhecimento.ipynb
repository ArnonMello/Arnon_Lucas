{
 "cells": [
  {
   "cell_type": "code",
   "execution_count": 34,
   "metadata": {},
   "outputs": [],
   "source": [
    "import pandas as pd\n",
    "import numpy as np\n",
    "import matplotlib.pyplot as plt\n",
    "\n",
    "import keras\n",
    "import tensorflow as tf"
   ]
  },
  {
   "cell_type": "code",
   "execution_count": 35,
   "metadata": {},
   "outputs": [],
   "source": [
    "data = pd.read_csv('train.csv')\n",
    "X_train = data.drop('label', axis = 1)\n",
    "X_train = X_train.values.reshape(-1,28,28,1)\n",
    "Y_train = data['label']\n",
    "test = pd.read_csv('test.csv')\n",
    "test = test.values.reshape(-1, 28, 28, 1)"
   ]
  },
  {
   "cell_type": "code",
   "execution_count": 36,
   "metadata": {},
   "outputs": [],
   "source": [
    "X_train = X_train/255\n",
    "test = test/255"
   ]
  },
  {
   "cell_type": "code",
   "execution_count": 37,
   "metadata": {},
   "outputs": [
    {
     "data": {
      "text/plain": [
       "<matplotlib.image.AxesImage at 0x226a3088e48>"
      ]
     },
     "execution_count": 37,
     "metadata": {},
     "output_type": "execute_result"
    },
    {
     "data": {
      "image/png": "[encoded data removed]",
      "text/plain": [
       "<Figure size 432x288 with 1 Axes>"
      ]
     },
     "metadata": {
      "needs_background": "light"
     },
     "output_type": "display_data"
    }
   ],
   "source": [
    "plt.imshow(X_train[3][:, :, 0], cmap = 'gray')"
   ]
  },
  {
   "cell_type": "code",
   "execution_count": 38,
   "metadata": {},
   "outputs": [],
   "source": [
    "from keras.utils import to_categorical\n",
    "Y_train = to_categorical(Y_train, num_classes = 10)"
   ]
  },
  {
   "cell_type": "code",
   "execution_count": 39,
   "metadata": {},
   "outputs": [],
   "source": [
    "from sklearn.model_selection import train_test_split\n",
    "\n",
    "X_train, X_val, Y_train, Y_val = train_test_split(X_train, Y_train, test_size = 0.1, random_state = 42)"
   ]
  },
  {
   "cell_type": "code",
   "execution_count": 40,
   "metadata": {},
   "outputs": [],
   "source": [
    "from keras.models import Sequential\n",
    "from keras.layers import Conv2D, MaxPool2D, Flatten, Dense, Dropout\n",
    "\n",
    "model = Sequential()\n",
    "\n",
    "model.add(Conv2D(filters = 32, kernel_size = (3, 3),\n",
    "                 padding = 'Same', activation ='relu',\n",
    "                 input_shape = (28,28,1), strides = (1,1)))\n",
    "\n",
    "model.add(MaxPool2D(pool_size=(2,2), strides = (2, 2)))\n",
    "\n",
    "model.add(Conv2D(filters = 2, kernel_size = (3, 3),\n",
    "                 padding = 'Same', activation = 'relu',\n",
    "                 input_shape = (14, 14, 32), strides = (1, 1)))\n",
    "\n",
    "model.add(MaxPool2D(pool_size = (2, 2) , strides = (2, 2)))\n",
    "\n",
    "model.add(Flatten())\n",
    "\n",
    "model.add(Dense(128, activation = 'relu'))\n",
    "\n",
    "model.add(Dropout(0.5))\n",
    "\n",
    "model.add(Dense(10, activation = 'softmax'))"
   ]
  },
  {
   "cell_type": "code",
   "execution_count": 41,
   "metadata": {},
   "outputs": [],
   "source": [
    "from keras import optimizers\n",
    "\n",
    "optmizer = optimizers.Adam(learning_rate=0.001, beta_1=0.9, beta_2=0.999, amsgrad=False)"
   ]
  },
  {
   "cell_type": "code",
   "execution_count": 42,
   "metadata": {},
   "outputs": [],
   "source": [
    "model.compile(optimizer = 'adam',\n",
    "              loss = 'categorical_crossentropy',\n",
    "              metrics=[\"accuracy\"])"
   ]
  },
  {
   "cell_type": "code",
   "execution_count": 43,
   "metadata": {},
   "outputs": [],
   "source": [
    "from keras.callbacks import ReduceLROnPlateau\n",
    "\n",
    "learning_rate_reduction = ReduceLROnPlateau(monitor='val_acc', \n",
    "                                            patience=3, \n",
    "                                            verbose=1, \n",
    "                                            factor=0.5, \n",
    "                                            min_lr=0.00001)"
   ]
  },
  {
   "cell_type": "code",
   "execution_count": 46,
   "metadata": {},
   "outputs": [
    {
     "name": "stdout",
     "output_type": "stream",
     "text": [
      "Train on 37800 samples, validate on 4200 samples\n",
      "Epoch 1/10\n",
      "37800/37800 [==============================] - 37s 975us/step - loss: 0.0945 - accuracy: 0.9710 - val_loss: 0.0717 - val_accuracy: 0.9781\n",
      "Epoch 2/10\n",
      "37800/37800 [==============================] - 41s 1ms/step - loss: 0.0890 - accuracy: 0.9721 - val_loss: 0.0725 - val_accuracy: 0.9798\n",
      "Epoch 3/10\n",
      "37800/37800 [==============================] - 30s 788us/step - loss: 0.0895 - accuracy: 0.9733 - val_loss: 0.0803 - val_accuracy: 0.9755\n",
      "Epoch 4/10\n",
      "37800/37800 [==============================] - 36s 941us/step - loss: 0.0833 - accuracy: 0.9750 - val_loss: 0.0709 - val_accuracy: 0.9781\n",
      "Epoch 5/10\n",
      "37800/37800 [==============================] - 39s 1ms/step - loss: 0.0813 - accuracy: 0.9738 - val_loss: 0.0645 - val_accuracy: 0.9821\n",
      "Epoch 6/10\n",
      "37800/37800 [==============================] - 32s 848us/step - loss: 0.0806 - accuracy: 0.9755 - val_loss: 0.0686 - val_accuracy: 0.9788\n",
      "Epoch 7/10\n",
      "37800/37800 [==============================] - 32s 844us/step - loss: 0.0787 - accuracy: 0.9755 - val_loss: 0.0637 - val_accuracy: 0.9826\n",
      "Epoch 8/10\n",
      "37800/37800 [==============================] - 30s 790us/step - loss: 0.0738 - accuracy: 0.9763 - val_loss: 0.0607 - val_accuracy: 0.9826\n",
      "Epoch 9/10\n",
      "37800/37800 [==============================] - 27s 709us/step - loss: 0.0728 - accuracy: 0.9775 - val_loss: 0.0607 - val_accuracy: 0.9821\n",
      "Epoch 10/10\n",
      "37800/37800 [==============================] - 29s 768us/step - loss: 0.0743 - accuracy: 0.9768 - val_loss: 0.0599 - val_accuracy: 0.9838\n"
     ]
    }
   ],
   "source": [
    "batch_size = 86\n",
    "epochs = 10\n",
    "history = model.fit(X_train, Y_train, batch_size = batch_size, epochs = epochs, \n",
    "                    validation_data = (X_val, Y_val), verbose = 1)"
   ]
  },
  {
   "cell_type": "code",
   "execution_count": 47,
   "metadata": {},
   "outputs": [],
   "source": [
    "def salvar_rede(model):\n",
    "    model_json = model.to_json()\n",
    "    with open(\"model.json\", \"w\") as json_file:\n",
    "        json_file.write(model_json)\n",
    "    # serialize weights to HDF5\n",
    "    model.save_weights(\"model.h5\")\n",
    "    print(\"Saved model to disk\")"
   ]
  },
  {
   "cell_type": "code",
   "execution_count": 48,
   "metadata": {},
   "outputs": [
    {
     "name": "stdout",
     "output_type": "stream",
     "text": [
      "Saved model to disk\n"
     ]
    }
   ],
   "source": [
    "salvar_rede(model)"
   ]
  },
  {
   "cell_type": "code",
   "execution_count": null,
   "metadata": {},
   "outputs": [],
   "source": []
  }
 ],
 "metadata": {
  "kernelspec": {
   "display_name": "Python 3",
   "language": "python",
   "name": "python3"
  },
  "language_info": {
   "codemirror_mode": {
    "name": "ipython",
    "version": 3
   },
   "file_extension": ".py",
   "mimetype": "text/x-python",
   "name": "python",
   "nbconvert_exporter": "python",
   "pygments_lexer": "ipython3",
   "version": "3.7.3"
  }
 },
 "nbformat": 4,
 "nbformat_minor": 2
}
